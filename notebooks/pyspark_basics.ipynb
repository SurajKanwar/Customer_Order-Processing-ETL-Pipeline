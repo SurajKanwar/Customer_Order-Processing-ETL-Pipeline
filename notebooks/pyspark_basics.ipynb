{
 "cells": [
  {
   "cell_type": "code",
   "execution_count": 1,
   "id": "ae1f36bd",
   "metadata": {
    "id": "ae1f36bd"
   },
   "outputs": [],
   "source": [
    "import pyspark\n",
    "from pyspark.sql import SparkSession\n",
    "from pyspark.sql.functions import *"
   ]
  },
  {
   "cell_type": "code",
   "execution_count": 2,
   "id": "c4bd3ddc-b690-45a7-979d-eb02cf61c9b4",
   "metadata": {
    "id": "c4bd3ddc-b690-45a7-979d-eb02cf61c9b4"
   },
   "outputs": [],
   "source": [
    "spark = SparkSession.builder.appName('PysparkTransformation').getOrCreate()"
   ]
  },
  {
   "cell_type": "code",
   "execution_count": 4,
   "id": "b4bf27da-da05-4cc9-ad83-58b8399cc62a",
   "metadata": {
    "colab": {
     "base_uri": "https://localhost:8080/"
    },
    "id": "b4bf27da-da05-4cc9-ad83-58b8399cc62a",
    "outputId": "fdf75898-18f6-4f80-954c-db83aa58d5d5"
   },
   "outputs": [
    {
     "name": "stdout",
     "output_type": "stream",
     "text": [
      "+-------+------------------+-----------+--------+------+----------+------------------+\n",
      "|OrderID|      CustomerName|ProductName|Quantity| Price| OrderDate|        TotalPrice|\n",
      "+-------+------------------+-----------+--------+------+----------+------------------+\n",
      "|      1|      Nicole Evans|     Laptop|       2|948.49|2024-03-28|           1896.98|\n",
      "|      2|       Selena Neal| Headphones|       5|713.94|2024-03-12|3569.7000000000003|\n",
      "|      3|      Andrew Davis|   Keyboard|       1|799.83|2024-06-10|            799.83|\n",
      "|      4|        Alex Young| Headphones|       5|731.78|2024-04-12|3658.8999999999996|\n",
      "|      5|       Joshua Sosa| Headphones|       1|465.68|2024-10-25|            465.68|\n",
      "|      6|         Anna Case| Smartphone|       4|920.59|2024-10-05|           3682.36|\n",
      "|      7|      Pamela Owens| Headphones|       2|732.83|2024-07-28|           1465.66|\n",
      "|      8|       Roy Johnson|   Keyboard|       3|321.89|2024-08-06|            965.67|\n",
      "|      9|    Joseph Collier| Smartphone|       1|631.84|2024-12-05|            631.84|\n",
      "|     10|      Jason Sexton|      Mouse|       4|915.61|2024-04-08|           3662.44|\n",
      "|     11|       Luis Taylor|      Mouse|       2|275.98|2024-11-19|            551.96|\n",
      "|     12|      Thomas Gomez|     Tablet|       2|591.58|2024-05-01|           1183.16|\n",
      "|     13|     Lance Carroll|     Laptop|       1|204.39|2024-04-26|            204.39|\n",
      "|     14|     Joshua Fields|     Laptop|       1|459.49|2024-03-15|            459.49|\n",
      "|     15|  Christina Rivera|      Mouse|       3|750.71|2024-11-25|           2252.13|\n",
      "|     16|Dr. Michael Dawson|      Mouse|       2|404.18|2024-08-28|            808.36|\n",
      "|     17|       Brandy Hall|     Laptop|       5|722.48|2024-11-07|            3612.4|\n",
      "|     18|     Andrew Newton|   Keyboard|       5|885.48|2024-03-27|            4427.4|\n",
      "|     19|      Michele King|     Laptop|       5|448.01|2024-11-16|           2240.05|\n",
      "|     20|      Aimee Knight|      Mouse|       4|281.87|2024-09-08|           1127.48|\n",
      "+-------+------------------+-----------+--------+------+----------+------------------+\n",
      "only showing top 20 rows\n",
      "\n"
     ]
    }
   ],
   "source": [
    "df_pyspark = spark.read.csv(r'C:\\Users\\Dusty\\Downloads\\Internship\\Git_Repo\\Customer-Order-Processing-ETL-Pipeline\\data\\cleaned&transformed_sample_orders.csv',header=True,inferSchema=True)\n",
    "df_pyspark.show()"
   ]
  },
  {
   "cell_type": "code",
   "execution_count": null,
   "id": "ec8a337d-01ad-472e-b295-71b88737cb99",
   "metadata": {
    "colab": {
     "base_uri": "https://localhost:8080/"
    },
    "id": "ec8a337d-01ad-472e-b295-71b88737cb99",
    "outputId": "2e36c3c6-8cac-41c6-9923-67738877f2a6"
   },
   "outputs": [
    {
     "name": "stdout",
     "output_type": "stream",
     "text": [
      "+-------+------------------+-----------+--------+------+----------+----------+\n",
      "|OrderID|      CustomerName|ProductName|Quantity| Price| OrderDate|TotalPrice|\n",
      "+-------+------------------+-----------+--------+------+----------+----------+\n",
      "|      1|      Nicole Evans|     Laptop|       2|948.49|2024-03-28|   1896.98|\n",
      "|      2|       Selena Neal| Headphones|       5|713.94|2024-03-12|    3569.7|\n",
      "|      3|      Andrew Davis|   Keyboard|       1|799.83|2024-06-10|    799.83|\n",
      "|      4|        Alex Young| Headphones|       5|731.78|2024-04-12|    3658.9|\n",
      "|      5|       Joshua Sosa| Headphones|       1|465.68|2024-10-25|    465.68|\n",
      "|      6|         Anna Case| Smartphone|       4|920.59|2024-10-05|   3682.36|\n",
      "|      7|      Pamela Owens| Headphones|       2|732.83|2024-07-28|   1465.66|\n",
      "|      8|       Roy Johnson|   Keyboard|       3|321.89|2024-08-06|    965.67|\n",
      "|      9|    Joseph Collier| Smartphone|       1|631.84|2024-12-05|    631.84|\n",
      "|     10|      Jason Sexton|      Mouse|       4|915.61|2024-04-08|   3662.44|\n",
      "|     11|       Luis Taylor|      Mouse|       2|275.98|2024-11-19|    551.96|\n",
      "|     12|      Thomas Gomez|     Tablet|       2|591.58|2024-05-01|   1183.16|\n",
      "|     13|     Lance Carroll|     Laptop|       1|204.39|2024-04-26|    204.39|\n",
      "|     14|     Joshua Fields|     Laptop|       1|459.49|2024-03-15|    459.49|\n",
      "|     15|  Christina Rivera|      Mouse|       3|750.71|2024-11-25|   2252.13|\n",
      "|     16|Dr. Michael Dawson|      Mouse|       2|404.18|2024-08-28|    808.36|\n",
      "|     17|       Brandy Hall|     Laptop|       5|722.48|2024-11-07|    3612.4|\n",
      "|     18|     Andrew Newton|   Keyboard|       5|885.48|2024-03-27|    4427.4|\n",
      "|     19|      Michele King|     Laptop|       5|448.01|2024-11-16|   2240.05|\n",
      "|     20|      Aimee Knight|      Mouse|       4|281.87|2024-09-08|   1127.48|\n",
      "+-------+------------------+-----------+--------+------+----------+----------+\n",
      "only showing top 20 rows\n",
      "\n"
     ]
    }
   ],
   "source": [
    "df_pyspark=df_pyspark.withColumn('TotalPrice', round(df_pyspark['TotalPrice'],2))\n",
    "df_pyspark.show()"
   ]
  },
  {
   "cell_type": "code",
   "execution_count": null,
   "id": "61222a78-a394-42a2-ba9c-39acb7474473",
   "metadata": {
    "id": "61222a78-a394-42a2-ba9c-39acb7474473"
   },
   "outputs": [],
   "source": [
    "df_filled = df_pyspark.na.fill({'Price':0})"
   ]
  },
  {
   "cell_type": "code",
   "execution_count": null,
   "id": "42408ca8-0454-4305-bc64-bebba47fc46e",
   "metadata": {
    "id": "42408ca8-0454-4305-bc64-bebba47fc46e"
   },
   "outputs": [],
   "source": [
    "df_filled = df_pyspark.na.fill({'CustomerName':'Unknown'})"
   ]
  },
  {
   "cell_type": "code",
   "execution_count": null,
   "id": "1b5caa1d-b582-4c18-ab25-bbd1ea0237c1",
   "metadata": {
    "id": "1b5caa1d-b582-4c18-ab25-bbd1ea0237c1"
   },
   "outputs": [],
   "source": [
    "df_filled = df_pyspark.na.fill({'Quantity':0})"
   ]
  },
  {
   "cell_type": "code",
   "execution_count": null,
   "id": "ddc08598-1db6-4cbf-af09-8cb4cf21016c",
   "metadata": {
    "id": "ddc08598-1db6-4cbf-af09-8cb4cf21016c"
   },
   "outputs": [],
   "source": [
    "df_cleaned = df_pyspark.dropDuplicates()"
   ]
  },
  {
   "cell_type": "code",
   "execution_count": null,
   "id": "1e982fa8-ea7c-411c-9f2e-fe5b7c22c343",
   "metadata": {
    "id": "1e982fa8-ea7c-411c-9f2e-fe5b7c22c343"
   },
   "outputs": [],
   "source": [
    "agg_df_pyspark = df_pyspark.groupBy('CustomerName').sum('TotalPrice')"
   ]
  },
  {
   "cell_type": "code",
   "execution_count": null,
   "id": "01a01843-50ee-4011-b11b-22e3e8bc7516",
   "metadata": {
    "colab": {
     "base_uri": "https://localhost:8080/"
    },
    "id": "01a01843-50ee-4011-b11b-22e3e8bc7516",
    "outputId": "6c19c998-8a85-4005-9cac-07ea62a83af9"
   },
   "outputs": [
    {
     "name": "stdout",
     "output_type": "stream",
     "text": [
      "+------------------+---------------+\n",
      "|      CustomerName|sum(TotalPrice)|\n",
      "+------------------+---------------+\n",
      "|  Patrick Robinson|        3170.88|\n",
      "|     Benjamin Bush|         1970.8|\n",
      "|      Jason Sexton|        3662.44|\n",
      "|    Alexander Hunt|         510.76|\n",
      "|       Jessica Lee|          725.1|\n",
      "|  Christina Rivera|        2252.13|\n",
      "|Dr. Michael Dawson|         808.36|\n",
      "| Elizabeth Jackson|         2333.4|\n",
      "|   William Proctor|         732.25|\n",
      "|      David Molina|         541.34|\n",
      "|       Alyssa Cruz|          837.3|\n",
      "|     Andrew Haynes|         871.82|\n",
      "|      Traci Bryant|         113.37|\n",
      "| Miss Rhonda Chang|         754.84|\n",
      "|      Susan Martin|        1024.18|\n",
      "|Veronica Velazquez|        2769.93|\n",
      "|    Clinton Harris|         995.95|\n",
      "|       Luis Taylor|         551.96|\n",
      "|    Brandon Monroe|         198.69|\n",
      "|        April Cole|        1486.86|\n",
      "+------------------+---------------+\n",
      "only showing top 20 rows\n",
      "\n"
     ]
    }
   ],
   "source": [
    "agg_df_pyspark.show()"
   ]
  },
  {
   "cell_type": "code",
   "execution_count": null,
   "id": "609da20c-91f4-4dc0-9bdc-eabf9f4bf26c",
   "metadata": {
    "id": "609da20c-91f4-4dc0-9bdc-eabf9f4bf26c"
   },
   "outputs": [],
   "source": [
    "df_TotalRevenue = df_pyspark.selectExpr('sum(Price * Quantity) as TotalRevenue')"
   ]
  },
  {
   "cell_type": "code",
   "execution_count": null,
   "id": "4ce86f75-1187-4440-b0ab-0bdf9b2b1183",
   "metadata": {
    "colab": {
     "base_uri": "https://localhost:8080/"
    },
    "id": "4ce86f75-1187-4440-b0ab-0bdf9b2b1183",
    "outputId": "e8e9b7c7-7370-4b0a-882a-aad234f4e5e7"
   },
   "outputs": [
    {
     "name": "stdout",
     "output_type": "stream",
     "text": [
      "+------------------+\n",
      "|      TotalRevenue|\n",
      "+------------------+\n",
      "|149868.83000000002|\n",
      "+------------------+\n",
      "\n"
     ]
    }
   ],
   "source": [
    "df_TotalRevenue.show()"
   ]
  },
  {
   "cell_type": "code",
   "execution_count": null,
   "id": "335132c1-0082-47eb-a9cb-2bfdbb9be72c",
   "metadata": {
    "id": "335132c1-0082-47eb-a9cb-2bfdbb9be72c"
   },
   "outputs": [],
   "source": [
    "productCount = df_pyspark.groupBy('ProductName').agg(sum('Quantity').alias('TotalUnits'),sum('TotalPrice').alias('TotalUnitsPrice'))"
   ]
  },
  {
   "cell_type": "code",
   "execution_count": null,
   "id": "d56454dd-7386-4ccb-a191-711fa1ab83e7",
   "metadata": {
    "colab": {
     "base_uri": "https://localhost:8080/"
    },
    "id": "d56454dd-7386-4ccb-a191-711fa1ab83e7",
    "outputId": "a3b4fe65-e5c6-436e-9685-2d9ce2e3fafe"
   },
   "outputs": [
    {
     "name": "stdout",
     "output_type": "stream",
     "text": [
      "+-----------+----------+------------------+\n",
      "|ProductName|TotalUnits|   TotalUnitsPrice|\n",
      "+-----------+----------+------------------+\n",
      "|     Laptop|        43|21992.019999999997|\n",
      "|      Mouse|        53|           22059.2|\n",
      "|     Tablet|        40|          17144.65|\n",
      "|   Keyboard|        67|37424.579999999994|\n",
      "| Smartphone|        44|24429.379999999997|\n",
      "| Headphones|        45|26819.000000000004|\n",
      "+-----------+----------+------------------+\n",
      "\n"
     ]
    }
   ],
   "source": [
    "productCount.show()"
   ]
  },
  {
   "cell_type": "code",
   "execution_count": 18,
   "id": "e8e143d4-2fdc-4f05-92d0-3c8d8f1a425e",
   "metadata": {
    "id": "e8e143d4-2fdc-4f05-92d0-3c8d8f1a425e"
   },
   "outputs": [],
   "source": [
    "df_pyspark.coalesce(1).write.csv('/content/sample_data/Final_Orders.csv',header=True, mode=\"overwrite\")"
   ]
  },
  {
   "cell_type": "code",
   "execution_count": 19,
   "id": "d4999550-6743-433e-b73a-6eafb488dc0e",
   "metadata": {
    "id": "d4999550-6743-433e-b73a-6eafb488dc0e"
   },
   "outputs": [],
   "source": [
    "df_pyspark.write.json('/content/sample_data/Final_Orders.json', mode=\"overwrite\")"
   ]
  }
 ],
 "metadata": {
  "colab": {
   "provenance": []
  },
  "kernelspec": {
   "display_name": "Python 3 (ipykernel)",
   "language": "python",
   "name": "python3"
  },
  "language_info": {
   "codemirror_mode": {
    "name": "ipython",
    "version": 3
   },
   "file_extension": ".py",
   "mimetype": "text/x-python",
   "name": "python",
   "nbconvert_exporter": "python",
   "pygments_lexer": "ipython3",
   "version": "3.13.1"
  }
 },
 "nbformat": 4,
 "nbformat_minor": 5
}
